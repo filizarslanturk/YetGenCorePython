{
  "cells": [
    {
      "cell_type": "markdown",
      "metadata": {
        "id": "tsD4YVAe_Te2"
      },
      "source": [
        "# Problem 1\n",
        "Bir sayının 7'ye bölünebilir olup olmadığını kontrol etmek \n",
        "için bir program yazın.\n",
        "\n",
        "İpucu: Mod operatörünü (%) kullanabilirsiniz."
      ]
    },
    {
      "cell_type": "code",
      "execution_count": 2,
      "metadata": {
        "id": "NGjvNwKx_Te7"
      },
      "outputs": [
        {
          "name": "stdout",
          "output_type": "stream",
          "text": [
            "51, 7 ile tam bölünemez.\n"
          ]
        }
      ],
      "source": [
        "sayi=int(input(\"Sayı:\"))\n",
        "if sayi%7==0:\n",
        "    print(f\"{sayi}, 7 ile tam bölünür.\")\n",
        "else:\n",
        "    print(f\"{sayi}, 7 ile tam bölünemez.\")"
      ]
    },
    {
      "cell_type": "markdown",
      "metadata": {
        "id": "Kg3qiBAI_Te8"
      },
      "source": [
        "# Problem 2\n",
        "Kullanıcıdan vize ve final notu isteyin. Girilen vize notunun %40’ı ve \n",
        "girilen finalnotunun ise %60’ı alınarak yıl sonu not ortalaması hesaplanacaktır. \n",
        "\n",
        "Bu not ortalaması eğer 85 ve üzeri ise AA, \n",
        "\n",
        "75 ve 85 arasında ise BA, \n",
        "\n",
        "70 ve 75 arasında ise BB, \n",
        "\n",
        "65 ve 70 arasında ise CB,\n",
        "\n",
        "60 ve 65 arasında ise CC,\n",
        "\n",
        "55 ve 60 arasında ise DC,\n",
        "\n",
        "50 ve 55 arasında ise DD olarak hesaplanacaktır. \n",
        "\n",
        "Bu öğrencinin yıl sonu toplam notu 50’nin altında ise FF ile dersten kalacaktır. \n",
        "\n",
        "Ayrıca öğrencinin final notu 50’nin altında ise direkt FF ile kalacaktır."
      ]
    },
    {
      "cell_type": "code",
      "execution_count": 10,
      "metadata": {
        "id": "MXTtCxI1_Te8"
      },
      "outputs": [
        {
          "name": "stdout",
          "output_type": "stream",
          "text": [
            "Harf notunuz: FF ve dersten kaldınız.\n"
          ]
        }
      ],
      "source": [
        "vize=float(input(\"Vize notunu giriniz:\"))\n",
        "final=float(input(\"Final notunu giriniz:\"))\n",
        "if final<50:\n",
        "    print(\"Final notunuz 50'nin altında. Harf notunuz: FF ve dersten kaldınız.\")\n",
        "else:\n",
        "    notort= (vize*40/100)+(final*60/100)\n",
        "    if notort>=85:\n",
        "        print(f\"Not ortalamanız: {notort} ve harf notunuz: AA\")\n",
        "    elif notort>=75 and notort<85:\n",
        "        print(f\"Not ortalamanız: {notort} ve harf notunuz: BA\")\n",
        "    elif notort>=70 and notort<75:\n",
        "        print(f\"Not ortalamanız: {notort} ve harf notunuz: BB\")\n",
        "    elif notort>=65 and notort<70:\n",
        "        print(f\"Not ortalamanız: {notort} ve harf notunuz: CB\")\n",
        "    elif notort>=60 and notort<65:\n",
        "        print(f\"Not ortalamanız: {notort} ve harf notunuz: CC\")\n",
        "    elif notort>=55 and notort<60:\n",
        "        print(f\"Not ortalamanız: {notort} ve harf notunuz: DC\")\n",
        "    elif notort>=50 and notort<55:\n",
        "        print(f\"Not ortalamanız: {notort} ve harf notunuz: DD\")\n",
        "    else:\n",
        "        print(\"Harf notunuz: FF ve dersten kaldınız.\")\n"
      ]
    },
    {
      "cell_type": "markdown",
      "metadata": {
        "id": "tAoRYCTC_Te8"
      },
      "source": [
        "# Problem 3\n",
        "İki YetGenli Zirve'de karşılaşıyorlar. Birbirlerini tanımak için sorular soruyorlar. Birbirlerine yaşlarını soruyorlar. Akıllarına bir Python programı yazıp, yaşlarını ve isimlerini giriyorlar. Büyük olanın yaşını ekrana yazdıran programı yazıyorlar. Sende bu iki YetGenli'ye destek olmak ister misin?\n",
        "\n",
        "```\n",
        "Birinci YetGenlinin ismi: Ahmet\n",
        "Birinci YetGenlinin yaşı : 20\n",
        "İkinci YetGenlinin ismi: Mehmet\n",
        "İkinci YetGenlinin yaşı : 25\n",
        "Mehmet'in yaşı daha büyük ve yaşı 25'tir.\n",
        "```"
      ]
    },
    {
      "cell_type": "code",
      "execution_count": 13,
      "metadata": {
        "id": "bPjE8W0i_Te8"
      },
      "outputs": [
        {
          "name": "stdout",
          "output_type": "stream",
          "text": [
            "filiz ve harun yaşıtlar ve 19 yaşındadırlar.\n"
          ]
        }
      ],
      "source": [
        "isim1=str(input(\"Birinci Yetgenlinin ismi:\"))\n",
        "yas1=int(input(\"Birinci Yetgenlinin yaşı\"))\n",
        "isim2=str(input(\"İkinci Yetgenlinin ismi:\"))\n",
        "yas2=int(input(\"İkinci Yetgenlinin yaşı\"))\n",
        "if yas1>yas2:\n",
        "    print(f\"{isim1} yaşça daha büyük ve {yas1} yaşındadır.\")\n",
        "elif yas1==yas2:\n",
        "    print(f\"{isim1} ve {isim2} yaşıtlar ve {yas1} yaşındadırlar.\")\n",
        "else:\n",
        "    print(f\"{isim2} yaşça daha büyük ve {yas2} yaşındadır.\")\n"
      ]
    },
    {
      "cell_type": "markdown",
      "metadata": {
        "id": "zBVv8Tyg_Te9"
      },
      "source": [
        "# Problem 4\n",
        "Pandemi döneminde AVM'lerde ateş ölçümü yapılıyor. AVM'ye giren kişinin ateş ölçümü 37.5 derecenin altında ise girişe izin veriliyor. 37.5 derecenin üstünde ise girişe izin verilmiyor. AVM'ye girişe izin verilip verilmediğini ekrana yazdıran bir program yazın.\n",
        "\n",
        "Program sonunda şöyle bir çıktı elde etmelisiniz:\n",
        "\n",
        "```\n",
        "Ateşiniz 37.5 derece. AVM'ye girebilirsin! Maske takmayı unutma!\n",
        "Ateşiniz 37.6 derece. AVM'ye giremezsin! Hemen evine dön!\n",
        "```"
      ]
    },
    {
      "cell_type": "code",
      "execution_count": 15,
      "metadata": {
        "id": "TSAXs8et_Te9"
      },
      "outputs": [
        {
          "name": "stdout",
          "output_type": "stream",
          "text": [
            "Ateşiniz 36.5 derece. AVM'ye girebilirsin! Maske takmayı unutma!\n"
          ]
        }
      ],
      "source": [
        "ates=float(input(\"Ateş ölçümü:\"))\n",
        "if ates<=37.5:\n",
        "    print(f\"Ateşiniz {ates} derece. AVM'ye girebilirsin! Maske takmayı unutma!\")\n",
        "else:\n",
        "    print(f\"Ateşiniz {ates} derece. AVM'ye giremezsin! Hemen evine dön!\")"
      ]
    },
    {
      "cell_type": "markdown",
      "metadata": {
        "id": "6AEkZrDt_Te9"
      },
      "source": [
        "# Problem 5\n",
        "YetGen bir spor kulübüyle sponsorluk anlaşması yapıyor. Kulüp, sponsorluk anlaşmasına göre her YetGen liderinin beden kitle indeksini hesaplamak istiyor. Spor kulübü, beden kitle indeksini hesaplamak için YetGen Jump Python liderlerinden Berkcan ve Ahmet'i arıyor. Berkcan ve Ahmet, kulübe yardımcı olmak için bir Python programı yazıyorlar. Sende bu iki YetGen liderine destek olmak ister misin?\n",
        "\n",
        "Kullanıcıdan alınan boy ve kilo değerlerine göre beden kitle indeksini hesaplayın ve şu kurallara göre ekrana şu yazıları yazdırın.\n",
        "\n",
        "\n",
        "Beden Kitle İndeksi, kişinin ağırlığının (kg olarak) boyunun karesine (m olarak) bölünmesiyle hesaplanır.\n",
        "\n",
        "\n",
        "```\n",
        " BKİ 18.5'un altındaysa -------> Zayıf\n",
        "\n",
        " BKİ 18.5 ile 25 arasındaysa ------> Normal\n",
        "\n",
        " BKİ 25 ile 30 arasındaysa --------> Fazla Kilolu\n",
        "\n",
        " BKİ 30'un üstündeyse -------------> Obez\n",
        "```\n",
        "\n"
      ]
    },
    {
      "cell_type": "code",
      "execution_count": 20,
      "metadata": {
        "id": "t-XPI_u0_Te-"
      },
      "outputs": [
        {
          "name": "stdout",
          "output_type": "stream",
          "text": [
            " Beden Kitle İndeksi: 36.98224852071006 => Obez\n"
          ]
        }
      ],
      "source": [
        "boy=float(input(\"Boyunuzu metre cinsinden giriniz:\"))\n",
        "kilo= float(input(\"Kilonuzu kg cinsinden giriniz:\"))\n",
        "bki= kilo/(boy**2)\n",
        "if bki<=18.5:\n",
        "    print(f\" Beden Kitle İndeksi: {bki} => Zayıf\")\n",
        "elif bki<=25 and bki>18.5:\n",
        "    print(f\" Beden Kitle İndeksi: {bki} => Normal\")\n",
        "elif bki<=30 and bki>25:\n",
        "    print(f\" Beden Kitle İndeksi: {bki} => Fazla Kilolu\")\n",
        "else:\n",
        "    print(f\" Beden Kitle İndeksi: {bki} => Obez\")"
      ]
    },
    {
      "cell_type": "markdown",
      "metadata": {
        "id": "oFsvQyaO_Te-"
      },
      "source": [
        "# Problem 6\n",
        "Kullanıcıdan isim, yaş ve eğitim bilgilerini isteyip ehliyet alabilme  durumunu kontrol ediniz. \n",
        "\n",
        "Ehliyet alma koşulu en az 18 yaşında ve eğitim durumu lise ya da üniversite olmalıdır. "
      ]
    },
    {
      "cell_type": "code",
      "execution_count": 25,
      "metadata": {
        "id": "Tu2mcgco_Te-"
      },
      "outputs": [
        {
          "name": "stdout",
          "output_type": "stream",
          "text": [
            "Ehliyet alamazsınız!\n"
          ]
        }
      ],
      "source": [
        "isim=str(input(\"İsminiz:\"))\n",
        "yas=int(input(\"Yaşınız:\"))\n",
        "egitim=str(input(\"Eğitim durumunuz:\"))\n",
        "if yas>=18 and (egitim=='Lise' or egitim=='Üniversite'):\n",
        "    print(\"Ehliyet alabilirsiniz!\")\n",
        "else:\n",
        "    print(\"Ehliyet alamazsınız!\")"
      ]
    },
    {
      "cell_type": "markdown",
      "metadata": {
        "id": "eUkxVSAE_Te_"
      },
      "source": [
        "# Problem 7\n",
        "Bir yılın artık yıl olup olmadığını kontrol etmek için bir program yazın. \n",
        "Artık yıl kuralı:\n",
        "\n",
        "a) Eğer yılın son iki basamağı (00) ile bitmiyor ve yalnızca 4'e tam bölünüyorsa artık yıldır. Ya da, \n",
        "\n",
        "b) Eğer yıl 400'e tam bölünüyorsa artık yıldır.\n",
        "\n",
        "**Örneğin**\n",
        "```\n",
        "2017 artık yıl değildir.\n",
        "1900 artık yıl değildir\n",
        "2012 artık yıldır.\n",
        "2000 artık yıldır.\n",
        "```"
      ]
    },
    {
      "cell_type": "code",
      "execution_count": 29,
      "metadata": {
        "id": "4uWh8qUL_Te_"
      },
      "outputs": [
        {
          "name": "stdout",
          "output_type": "stream",
          "text": [
            "1900 artık yıl değildir.\n"
          ]
        }
      ],
      "source": [
        "yil=int(input(\"Yıl:\"))\n",
        "if (yil%100!=0 and yil%4==0) or yil%400==0:\n",
        "    print(f\"{yil} artık yıldır.\")\n",
        "else:\n",
        "    print(f\"{yil} artık yıl değildir.\")"
      ]
    }
  ],
  "metadata": {
    "colab": {
      "provenance": []
    },
    "kernelspec": {
      "display_name": "Python 3",
      "language": "python",
      "name": "python3"
    },
    "language_info": {
      "codemirror_mode": {
        "name": "ipython",
        "version": 3
      },
      "file_extension": ".py",
      "mimetype": "text/x-python",
      "name": "python",
      "nbconvert_exporter": "python",
      "pygments_lexer": "ipython3",
      "version": "3.11.1"
    },
    "orig_nbformat": 4,
    "vscode": {
      "interpreter": {
        "hash": "aee8b7b246df8f9039afb4144a1f6fd8d2ca17a180786b69acc140d282b71a49"
      }
    }
  },
  "nbformat": 4,
  "nbformat_minor": 0
}
