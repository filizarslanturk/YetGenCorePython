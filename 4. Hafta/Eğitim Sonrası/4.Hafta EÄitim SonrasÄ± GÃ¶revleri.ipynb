{
 "cells": [
  {
   "cell_type": "markdown",
   "metadata": {},
   "source": [
    "# Problem 1\n",
    "`ogrenciler` adında bir sözlük oluşturunuz. Kullanıcıdan döngü yardımıyla 3 öğrenci için veri girmesini isteyerek öğrencilerin sırasıyla okul numarası, isim, soy isim, telefon numarası ve doğum tarihi bilgilerini alınız. Aldığınız öğrenci bilgilerini yine aynı döngü yardımıyla `ogrenciler` adındaki sözlükte saklayınız. Daha sonra öğrenci bilgilerinin bulunduğu sözlük yapısını ekrana bastırınız.\n",
    "\n"
   ]
  },
  {
   "cell_type": "code",
   "execution_count": 2,
   "metadata": {},
   "outputs": [
    {
     "name": "stdout",
     "output_type": "stream",
     "text": [
      "0:{'Okul Numarası': '1', 'İsim': '1', 'Soyisim': '1', 'Telefon Numarası:': '1', 'Doğum Tarihi:': '1'}\n",
      "1:{'Okul Numarası': '1', 'İsim': '1', 'Soyisim': '1', 'Telefon Numarası:': '1', 'Doğum Tarihi:': '1'}\n",
      "2:{'Okul Numarası': '1', 'İsim': '1', 'Soyisim': '1', 'Telefon Numarası:': '1', 'Doğum Tarihi:': '1'}\n"
     ]
    }
   ],
   "source": [
    "# 1.Problemin Çözümünü Buraya Yazınız\n",
    "ogrenciler={}\n",
    "for i in range(3):\n",
    "    okulno= input(\"Okul Numarası:\")\n",
    "    isim=input(\"İsim:\")\n",
    "    soyisim=input(\"Soyisim:\")\n",
    "    telefonno=input(\"Telefon Numarası:\")\n",
    "    dogum=input(\"Doğum Tarihi:\")\n",
    "    ogrenciler[i]={\n",
    "        'Okul Numarası': okulno,\n",
    "        'İsim':isim,\n",
    "        'Soyisim':soyisim,\n",
    "        'Telefon Numarası:':telefonno,\n",
    "        'Doğum Tarihi:':dogum\n",
    "        }\n",
    "    print(f\"{i}:{ogrenciler[i]}\")\n"
   ]
  },
  {
   "cell_type": "markdown",
   "metadata": {},
   "source": [
    "# Problem 2\n",
    "\n",
    "### a - Biraz ısınarak başlayalım!\n",
    "\n",
    "```\n",
    "numbers = [5,10,10,15,15,15,20,20,20,20]\n",
    "```\n",
    "\n",
    "Yukarıda `numbers` adında 10 elemanlı bir liste verilmiştir. Bu listenin her elemanını kontrol eden ve tekrar eden elemanları bir kez olacak şekilde başka bir listeye kopyalayan bir program yazınız. Son olarak oluşturduğunuz listeyi ekrana bastırınız.\n",
    "\n",
    "\n",
    "\n",
    "\n",
    "```\n",
    ">Output\n",
    "[5, 10, 15, 20]\n",
    "```\n"
   ]
  },
  {
   "cell_type": "code",
   "execution_count": 3,
   "metadata": {},
   "outputs": [
    {
     "name": "stdout",
     "output_type": "stream",
     "text": [
      "[5, 10, 15, 20]\n"
     ]
    }
   ],
   "source": [
    "# 2.Problemin a Şıkkının Çözümünü Buraya Yazınız\n",
    "numbers = [5,10,10,15,15,15,20,20,20,20]\n",
    "new=[]\n",
    "for i in numbers:\n",
    "    if i in new:\n",
    "        continue\n",
    "    else:\n",
    "        new.append(i)\n",
    "print(new)"
   ]
  },
  {
   "cell_type": "markdown",
   "metadata": {},
   "source": [
    "### 🌶️ b) Hadi işi biraz daha zorlaştıralım! \n",
    "\n",
    "\n",
    "Şimdiyse senden `numbers` isimli listedeki tekrar eden elemanları `repeatNumbers` adındaki listeye; tekrar etmeyen elemanları `uniqueNumbers`adındaki listeye kopyalayan yazmanı ve listeleri ekrana bastırmanı bekliyoruz\n",
    "\n",
    "```\n",
    ">Output\n",
    "Tekrar Eden Elemanlar: [10, 10, 15, 15, 15, 20, 20, 20, 20]\n",
    "Tekrar Etmeyen Elemanlar: [5]\n",
    "```"
   ]
  },
  {
   "cell_type": "code",
   "execution_count": 4,
   "metadata": {},
   "outputs": [
    {
     "name": "stdout",
     "output_type": "stream",
     "text": [
      "[10, 10, 15, 15, 15, 20, 20, 20, 20]\n",
      "[5]\n"
     ]
    }
   ],
   "source": [
    "# 2.Problemin b Şıkkının Çözümünü Buraya Yazınız\n",
    "numbers = [5,10,10,15,15,15,20,20,20,20]\n",
    "tekrarEden=[]\n",
    "tekrarEtmeyen=[]\n",
    "for i in numbers:\n",
    "    if numbers.count(i)==1:\n",
    "        tekrarEtmeyen.append(i)\n",
    "    else:\n",
    "        tekrarEden.append(i)\n",
    "print(tekrarEden)\n",
    "print(tekrarEtmeyen)"
   ]
  },
  {
   "cell_type": "markdown",
   "metadata": {},
   "source": [
    "# Problem 3\n",
    "sn1 = {1,2,3,4,5}\n",
    "\n",
    "sn2 = {4,5,6,7,8}\n",
    "\n",
    " Verilen 2 adet küme için kesişimlerini, farklarını ve birleşimlerini bulunuz. "
   ]
  },
  {
   "cell_type": "code",
   "execution_count": 5,
   "metadata": {},
   "outputs": [
    {
     "name": "stdout",
     "output_type": "stream",
     "text": [
      "{4, 5}\n",
      "{1, 2, 3}\n",
      "{8, 6, 7}\n",
      "{1, 2, 3, 4, 5, 6, 7, 8}\n"
     ]
    }
   ],
   "source": [
    "# 3.Problemin Çözümünü Buraya Yazınız\n",
    "sn1={1,2,3,4,5}\n",
    "sn2={4,5,6,7,8}\n",
    "kesisim= sn1.intersection(sn2)\n",
    "print(kesisim)\n",
    "fark1= sn1.difference(sn2)\n",
    "print(fark1)\n",
    "fark2= sn2.difference(sn1)\n",
    "print(fark2)\n",
    "birlesim=sn1.union(sn2)\n",
    "print(birlesim)"
   ]
  },
  {
   "cell_type": "markdown",
   "metadata": {},
   "source": [
    "# Problem 4\n",
    "\n",
    "Buradaki işlemlerimizin tamamı stringler içindir. Aşağıda verilecek olan metodlar için kendinizin örnek yaratması gerekmektedir. \n",
    "\n",
    "Örneğin `upper` için `string` değişkeni oluştururken` k = \"BAC\"` şeklinde oluşturmayınız. Bunun yerine k değişkenini `k = \"bac`\" şeklinde oluşturmanız `upper` metodundaki değişimi görebilmeniz için daha iyi olacaktır.\n",
    "\n",
    "Bütün metodlardaki değişimin gözle görülür şekilde değişimi beklenmektedir.\n",
    "\n",
    "\n",
    "1- capitalize(), lower(), upper(), swapcase(), title(), replace()\n",
    "\n",
    "2- endswith(), startswith(), find(), index(), count()\n",
    "\n",
    "3- split(), strip(), join(), islower(), isalpha(), isdigit()\n",
    "\n",
    "\n",
    "Yukarıdaki `string` metodlarındaki değişimleri görebildiğimiz bir program yazınız.\n"
   ]
  },
  {
   "cell_type": "code",
   "execution_count": 24,
   "metadata": {},
   "outputs": [
    {
     "name": "stdout",
     "output_type": "stream",
     "text": [
      "Filiz arslantürk\n",
      "fi̇li̇z\n",
      "FILIZ ARSLANTÜRK\n",
      "fIlIz\n",
      "Filiz Arslantürk\n",
      "ayça arslantürk\n",
      "True\n",
      "True\n",
      "6\n",
      "1\n",
      "2\n",
      "['filiz', 'arslantürk']\n",
      "filiz\n",
      "False\n",
      "True\n",
      "True\n"
     ]
    }
   ],
   "source": [
    "k1='filiz arslantürk'\n",
    "k2='FİLİZ'\n",
    "k3='FiLiZ'\n",
    "k4='   .....rkgfiliz...   '\n",
    "k5='123324'\n",
    "print(k1.capitalize())\n",
    "print(k2.lower())\n",
    "print(k1.upper())\n",
    "print(k3.swapcase())\n",
    "print(k1.title())\n",
    "print(k1.replace('filiz','ayça'))\n",
    "print(k1.endswith('türk'))\n",
    "print(k1.startswith('fil'))\n",
    "print(k1.find('arslan'))\n",
    "print(k1.index('i'))\n",
    "print(k1.count('i'))\n",
    "print(k1.split())\n",
    "print(k4.strip(' .rkg'))\n",
    "print(k3.islower())\n",
    "print(k3.isalpha())\n",
    "print(k5.isdigit())\n"
   ]
  }
 ],
 "metadata": {
  "kernelspec": {
   "display_name": "Python 3",
   "language": "python",
   "name": "python3"
  },
  "language_info": {
   "codemirror_mode": {
    "name": "ipython",
    "version": 3
   },
   "file_extension": ".py",
   "mimetype": "text/x-python",
   "name": "python",
   "nbconvert_exporter": "python",
   "pygments_lexer": "ipython3",
   "version": "3.11.1"
  },
  "orig_nbformat": 4,
  "vscode": {
   "interpreter": {
    "hash": "aee8b7b246df8f9039afb4144a1f6fd8d2ca17a180786b69acc140d282b71a49"
   }
  }
 },
 "nbformat": 4,
 "nbformat_minor": 2
}
