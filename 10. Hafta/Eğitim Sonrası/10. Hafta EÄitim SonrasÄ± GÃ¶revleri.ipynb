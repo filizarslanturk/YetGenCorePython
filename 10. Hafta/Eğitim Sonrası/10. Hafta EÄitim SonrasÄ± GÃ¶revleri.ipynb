{
 "cells": [
  {
   "attachments": {},
   "cell_type": "markdown",
   "metadata": {},
   "source": [
    "# Problem 1 "
   ]
  },
  {
   "cell_type": "code",
   "execution_count": 3,
   "metadata": {},
   "outputs": [
    {
     "name": "stdout",
     "output_type": "stream",
     "text": [
      "[ 1 78 34 27  2]\n",
      "[ 1  2 27 34 78]\n"
     ]
    }
   ],
   "source": [
    "# 1 - numpy kütüphanesini import edin\n",
    "import numpy as np\n",
    "# 2 - 5 elemanlı bir numpy array oluşturun\n",
    "my_array= np.array([1,78,34,27,2])\n",
    "print(my_array)\n",
    "# 3 - Oluşturduğunuz arrayi küçükten büyüğe sıralayın.\n",
    "my_array.sort(axis=0)\n",
    "print(my_array)"
   ]
  },
  {
   "attachments": {},
   "cell_type": "markdown",
   "metadata": {},
   "source": [
    "# Problem 2"
   ]
  },
  {
   "cell_type": "code",
   "execution_count": 38,
   "metadata": {},
   "outputs": [
    {
     "name": "stdout",
     "output_type": "stream",
     "text": [
      "[10 15 30 45 60]\n",
      "[ 5  6  7  8  9 10 11 12 13 14 15]\n",
      "[ 50  55  60  65  70  75  80  85  90  95 100]\n",
      "[0. 0. 0. 0. 0. 0. 0. 0. 0. 0.]\n",
      "[1. 1. 1. 1. 1. 1. 1. 1. 1. 1.]\n",
      "[  0.  25.  50.  75. 100.]\n",
      "[21 27 18 26 19]\n",
      "[-0.38277758 -1.52437522 -2.39323727 -1.29328103  1.00540208 -1.15031013\n",
      " -1.79377003 -2.59661481 -0.33171135 -0.19449136]\n",
      "[[49 14 12 31 17]\n",
      " [46 48 20 24 11]\n",
      " [36 21 21 47 12]]\n",
      "[131  83  53 102  40]\n",
      "[123 149 137]\n",
      "49\n",
      "11\n",
      "27.266666666666666\n",
      "(array([0]), array([0]))\n",
      "[10 11 12]\n",
      "[20 19 18 17 16 15 14 13 12 11 10]\n",
      "[49 14 12 31 17]\n",
      "20\n",
      "[49 46 36]\n",
      "[[2401  196  144  961  289]\n",
      " [2116 2304  400  576  121]\n",
      " [1296  441  441 2209  144]]\n",
      "[-50 -49 -48 -47 -46 -45 -44 -43 -42 -41 -40 -39 -38 -37 -36 -35 -34 -33\n",
      " -32 -31 -30 -29 -28 -27 -26 -25 -24 -23 -22 -21 -20 -19 -18 -17 -16 -15\n",
      " -14 -13 -12 -11 -10  -9  -8  -7  -6  -5  -4  -3  -2  -1   0   1   2   3\n",
      "   4   5   6   7   8   9  10  11  12  13  14  15  16  17  18  19  20  21\n",
      "  22  23  24  25  26  27  28  29  30  31  32  33  34  35  36  37  38  39\n",
      "  40  41  42  43  44  45  46  47  48  49]\n",
      "Negatif [-50 -49 -48 -47 -46 -45 -44 -43 -42 -41 -40 -39 -38 -37 -36 -35 -34 -33\n",
      " -32 -31 -30 -29 -28 -27 -26 -25 -24 -23 -22 -21 -20 -19 -18 -17 -16 -15\n",
      " -14 -13 -12 -11 -10  -9  -8  -7  -6  -5  -4  -3  -2  -1]\n",
      "Pozitif [ 1  2  3  4  5  6  7  8  9 10 11 12 13 14 15 16 17 18 19 20 21 22 23 24\n",
      " 25 26 27 28 29 30 31 32 33 34 35 36 37 38 39 40 41 42 43 44 45 46 47 48\n",
      " 49]\n"
     ]
    }
   ],
   "source": [
    "# 1- (10,15,30,45,60) değerlerine sahip numpy dizisi oluşturunuz.\n",
    "a=np.array([10,15,30,45,60])\n",
    "print(a)\n",
    "# 2- (5-15) arasındaki sayılarla numpy dizisi oluşturunuz.\n",
    "b= np.arange(5,16)\n",
    "print(b)\n",
    "# 3- (50-100) arasında 5'er 5'er artarak numpy dizisi oluşturunuz.\n",
    "c=np.arange(50,101,5)\n",
    "print(c)\n",
    "# 4- 10 elemanlı sıfırlardan oluşan bir dizi oluşturunuz.\n",
    "d=np.zeros(10)\n",
    "print(d)\n",
    "# 5- 10 elemanlı birlerden oluşan bir dizi oluşturunuz.\n",
    "e=np.ones(10)\n",
    "print(e)\n",
    "# 6- (0-100) arasında eşit aralıklı 5 sayı üretin.\n",
    "f=np.linspace(0,100,5)\n",
    "print(f)\n",
    "# 7- (10-30) arasında rastgele 5 tane tamsayı üretin.\n",
    "g=np.random.randint(10,30,5)\n",
    "print(g)\n",
    "\n",
    "# 8- [-1 ile 1] arasında 10 adet sayı üretin.\n",
    "h=np.random.normal(-1,1,10)\n",
    "print(h)\n",
    "\n",
    "# 9- (3x5) boyutlarında (10-50) arasında rastgele bir matris oluşturunuz.\n",
    "matris=np.random.randint(10,50,[3,5])\n",
    "print(matris)\n",
    "\n",
    "# 10- Üretilen matrisin satır ve sütun sayıları toplamlarını hesaplayınız ?\n",
    "print(matris.sum(axis=0))\n",
    "print(matris.sum(axis=1))\n",
    "# 11- Üretilen matrisin en büyük, en küçük ve ortalaması nedir ?\n",
    "print(matris.max(axis=None))\n",
    "print(matris.min(axis=None))\n",
    "print(matris.mean(axis=None))\n",
    "\n",
    "# 12- Üretilen matrisin en büyük değerinin indeksi kaçtır ?\n",
    "print(np.where(matris== matris.max(axis=None)))\n",
    "\n",
    "\n",
    "# 13- (10-20) arasındaki sayıları içeren dizinin ilk 3 elemanını seçiniz.\n",
    "arr=np.arange(10,21)\n",
    "print(arr[:3])\n",
    "\n",
    "# 14- Üretilen dizinin elemanlarını tersten yazdırın.\n",
    "print(arr[::-1])\n",
    "\n",
    "# 15- Üretilen matrisin ilk satırını seçiniz.\n",
    "print(matris[0])\n",
    "\n",
    "# 16- Üretilen matrisin 2.satır 3.sütundaki elemanı hangisidir ?\n",
    "print(matris[1,2])\n",
    "\n",
    "# 17- Üretilen matrisin tüm satırlardaki ilk elemanı seçiniz.\n",
    "print(matris[:,0])\n",
    "\n",
    "# 18- Üretilen matrisin her bir elemanının karesini alınız.\n",
    "print(matris**2)\n",
    "# 19- Üretilen matris elemanlarının hangisi pozitif çift sayıdır ? Aralığı (-50,+50) arasında yapınız.\n",
    "matris2=np.arange(-50,50)\n",
    "matris2.reshape(10,10)\n",
    "print(matris2)\n",
    "print(\"Negatif\", matris2[matris2<0])\n",
    "print(\"Pozitif\", matris2[matris2>0])"
   ]
  }
 ],
 "metadata": {
  "kernelspec": {
   "display_name": "Python 3",
   "language": "python",
   "name": "python3"
  },
  "language_info": {
   "codemirror_mode": {
    "name": "ipython",
    "version": 3
   },
   "file_extension": ".py",
   "mimetype": "text/x-python",
   "name": "python",
   "nbconvert_exporter": "python",
   "pygments_lexer": "ipython3",
   "version": "3.8.8"
  },
  "orig_nbformat": 4,
  "vscode": {
   "interpreter": {
    "hash": "40d3a090f54c6569ab1632332b64b2c03c39dcf918b08424e98f38b5ae0af88f"
   }
  }
 },
 "nbformat": 4,
 "nbformat_minor": 2
}
